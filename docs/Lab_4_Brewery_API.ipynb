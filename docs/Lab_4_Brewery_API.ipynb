{
  "cells": [
    {
      "cell_type": "markdown",
      "metadata": {
        "id": "intro"
      },
      "source": [
        "# Lab 4: Working with JSON Data from the Open Brewery DB API\n",
        "\n",
        "**Create a copy of this notebook and follow the steps below**\n",
        "\n",
        "This notebook gives you starter code to use the **Open Brewery DB API** to extract data about breweries across the United States. This is a public API that does not require authentication, making it perfect for learning about APIs and JSON data.\n",
        "\n",
        "You should review the DataCamp chapter **\"Importing JSON Data and Working with APIs\"** (Part of Course: Streamlined Data Ingestion with Pandas) before starting this exercise. This counts for class participation credit.\n",
        "\n",
        "## Learning Objectives\n",
        "- Understand how to work with RESTful APIs\n",
        "- Parse JSON responses into Python dictionaries\n",
        "- Convert JSON data to pandas DataFrames\n",
        "- Use API query parameters to filter data\n",
        "- Combine data from multiple API calls\n",
        "\n",
        "## Resources\n",
        "- **API Documentation:** http://178.156.206.171:8000/docs\n",
        "- **What is an API?** https://www.mulesoft.com/resources/api/what-is-an-api\n",
        "- **JSON and APIs with Python:** https://towardsdatascience.com/json-and-apis-with-python-fba329ef6ef0"
      ]
    },
    {
      "cell_type": "markdown",
      "metadata": {
        "id": "imports"
      },
      "source": [
        "## Let's start with importing libraries to extract data from the Brewery API"
      ]
    },
    {
      "cell_type": "code",
      "execution_count": 4,
      "metadata": {
        "id": "import-libraries"
      },
      "outputs": [
        {
          "ename": "ModuleNotFoundError",
          "evalue": "No module named 'pandas'",
          "output_type": "error",
          "traceback": [
            "\u001b[31m---------------------------------------------------------------------------\u001b[39m",
            "\u001b[31mModuleNotFoundError\u001b[39m                       Traceback (most recent call last)",
            "\u001b[36mCell\u001b[39m\u001b[36m \u001b[39m\u001b[32mIn[4]\u001b[39m\u001b[32m, line 5\u001b[39m\n\u001b[32m      2\u001b[39m \u001b[38;5;28;01mimport\u001b[39;00m\u001b[38;5;250m \u001b[39m\u001b[34;01mrequests\u001b[39;00m\n\u001b[32m      4\u001b[39m \u001b[38;5;66;03m# Import pandas for data manipulation\u001b[39;00m\n\u001b[32m----> \u001b[39m\u001b[32m5\u001b[39m \u001b[38;5;28;01mimport\u001b[39;00m\u001b[38;5;250m \u001b[39m\u001b[34;01mpandas\u001b[39;00m\u001b[38;5;250m \u001b[39m\u001b[38;5;28;01mas\u001b[39;00m\u001b[38;5;250m \u001b[39m\u001b[34;01mpd\u001b[39;00m\n\u001b[32m      7\u001b[39m \u001b[38;5;66;03m# Import json for pretty printing JSON data\u001b[39;00m\n\u001b[32m      8\u001b[39m \u001b[38;5;28;01mimport\u001b[39;00m\u001b[38;5;250m \u001b[39m\u001b[34;01mjson\u001b[39;00m\n",
            "\u001b[31mModuleNotFoundError\u001b[39m: No module named 'pandas'"
          ]
        }
      ],
      "source": [
        "# Standard Python library for handling HTTP requests\n",
        "import requests\n",
        "\n",
        "# Import pandas for data manipulation\n",
        "import pandas as pd\n",
        "\n",
        "# Import json for pretty printing JSON data\n",
        "import json"
      ]
    },
    {
      "cell_type": "markdown",
      "metadata": {
        "id": "api-intro"
      },
      "source": [
        "## Understanding API Calls\n",
        "\n",
        "Unlike the Yelp API, the Open Brewery DB API is completely **open and requires no authentication**. This means:\n",
        "- ✅ No API key needed\n",
        "- ✅ No registration required\n",
        "- ✅ No rate limits for reasonable use\n",
        "\n",
        "To GET data from the API, we need:\n",
        "1. **A URL** - The base API endpoint\n",
        "2. **Parameters** - Query parameters to filter/search data\n",
        "3. **HTTP GET request** - Using the `requests` library\n",
        "\n",
        "### Available Endpoints\n",
        "Our brewery API has several endpoints:\n",
        "- `/breweries` - List breweries with filters\n",
        "- `/breweries/search` - Full-text search\n",
        "- `/breweries/random` - Get random brewery(ies)\n",
        "- `/breweries/autocomplete` - Name autocomplete\n",
        "- `/breweries/{id}` - Get specific brewery by ID\n",
        "- `/breweries/meta` - Get brewery count metadata\n",
        "\n",
        "You can view interactive documentation at: http://178.156.206.171:8000/docs"
      ]
    },
    {
      "cell_type": "markdown",
      "metadata": {
        "id": "example-query"
      },
      "source": [
        "## Example Query: Search for Breweries\n",
        "\n",
        "Let's search for breweries with the term \"dog\" in their name. This will demonstrate the basic pattern for making API calls."
      ]
    },
    {
      "cell_type": "code",
      "execution_count": null,
      "metadata": {
        "id": "setup-query"
      },
      "outputs": [],
      "source": [
        "# The base API URL\n",
        "base_url = 'http://178.156.206.171:8000'\n",
        "\n",
        "# The search endpoint\n",
        "search_url = f'{base_url}/breweries/search'\n",
        "\n",
        "# Query parameters - search for breweries with 'dog' in the name\n",
        "params = {\n",
        "    'query': 'dog',\n",
        "    'per_page': 10  # Limit to 10 results\n",
        "}\n",
        "\n",
        "print(f\"Making request to: {search_url}\")\n",
        "print(f\"With parameters: {params}\")"
      ]
    },
    {
      "cell_type": "code",
      "execution_count": null,
      "metadata": {
        "id": "make-request"
      },
      "outputs": [],
      "source": [
        "# Make the GET request\n",
        "# We set timeout=5 to stop waiting after 5 seconds\n",
        "response = requests.get(search_url, params=params, timeout=5)\n",
        "\n",
        "# Check if the request was successful\n",
        "print(f\"Status Code: {response.status_code}\")\n",
        "print(f\"Response URL: {response.url}\")\n",
        "\n",
        "# Extract JSON data from the response\n",
        "data = response.json()\n",
        "\n",
        "# Print the JSON data (nicely formatted)\n",
        "print(\"\\nJSON Response:\")\n",
        "print(json.dumps(data[:2], indent=2))  # Show first 2 results only for readability"
      ]
    },
    {
      "cell_type": "code",
      "execution_count": null,
      "metadata": {
        "id": "create-dataframe"
      },
      "outputs": [],
      "source": [
        "# Convert JSON data to pandas DataFrame\n",
        "# The API returns a list of brewery dictionaries directly\n",
        "df = pd.DataFrame(data)\n",
        "\n",
        "# Display the top 5 rows\n",
        "print(f\"Found {len(df)} breweries\")\n",
        "df.head()"
      ]
    },
    {
      "cell_type": "markdown",
      "metadata": {
        "id": "explore-data"
      },
      "source": [
        "## Exploring the Data Structure\n",
        "\n",
        "Let's examine what data is available for each brewery."
      ]
    },
    {
      "cell_type": "code",
      "execution_count": null,
      "metadata": {
        "id": "examine-columns"
      },
      "outputs": [],
      "source": [
        "# View all available columns\n",
        "print(\"Available columns:\")\n",
        "print(df.columns.tolist())\n",
        "\n",
        "# View data types\n",
        "print(\"\\nData types:\")\n",
        "print(df.dtypes)\n",
        "\n",
        "# View basic statistics\n",
        "print(\"\\nDataset shape:\")\n",
        "print(f\"Rows: {df.shape[0]}, Columns: {df.shape[1]}\")"
      ]
    },
    {
      "cell_type": "markdown",
      "metadata": {
        "id": "assignment"
      },
      "source": [
        "---\n",
        "\n",
        "# Lab Assignment\n",
        "\n",
        "Complete the following tasks for class participation credit:\n",
        "\n",
        "## Task 1: Search Endpoint Queries (3 queries)\n",
        "\n",
        "Use the `/breweries/search` endpoint with **three different search terms**. For each query:\n",
        "- Create separate params (params1, params2, params3)\n",
        "- Store responses in different variables (response1, response2, response3)\n",
        "- Create separate DataFrames (df1, df2, df3)\n",
        "- Display the top 5 rows of each DataFrame\n",
        "\n",
        "**Example search terms:**\n",
        "- \"brewing\"\n",
        "- \"mountain\"\n",
        "- \"craft\"\n",
        "- \"beer\"\n",
        "- Any term of your choice!\n",
        "\n",
        "### Query 1\n",
        "Write your code below:"
      ]
    },
    {
      "cell_type": "code",
      "execution_count": null,
      "metadata": {
        "id": "task1-query1"
      },
      "outputs": [],
      "source": [
        "# Your code for Query 1 here\n",
        "params1 = {\n",
        "    'query': 'YOUR_SEARCH_TERM',\n",
        "    'per_page': 10\n",
        "}\n",
        "\n",
        "# Make request, convert to DataFrame, display results\n"
      ]
    },
    {
      "cell_type": "markdown",
      "metadata": {
        "id": "task1-query2"
      },
      "source": [
        "### Query 2\n",
        "Write your code below:"
      ]
    },
    {
      "cell_type": "code",
      "execution_count": null,
      "metadata": {
        "id": "task1-query2-code"
      },
      "outputs": [],
      "source": [
        "# Your code for Query 2 here\n"
      ]
    },
    {
      "cell_type": "markdown",
      "metadata": {
        "id": "task1-query3"
      },
      "source": [
        "### Query 3\n",
        "Write your code below:"
      ]
    },
    {
      "cell_type": "code",
      "execution_count": null,
      "metadata": {
        "id": "task1-query3-code"
      },
      "outputs": [],
      "source": [
        "# Your code for Query 3 here\n"
      ]
    },
    {
      "cell_type": "markdown",
      "metadata": {
        "id": "task2"
      },
      "source": [
        "---\n",
        "\n",
        "## Task 2: Filter by Location\n",
        "\n",
        "Use the `/breweries` endpoint with **filter parameters**. This endpoint allows you to filter by:\n",
        "- `by_city` - Filter by city name (e.g., \"San Diego\")\n",
        "- `by_state` - Filter by state name (e.g., \"California\") \n",
        "- `by_postal` - Filter by postal code (e.g., \"92101\")\n",
        "- `by_type` - Filter by brewery type (micro, nano, regional, brewpub, large, planning, bar, contract, proprietor)\n",
        "\n",
        "Create **one query** that uses the filter endpoint. Convert to DataFrame and display top 5 rows.\n",
        "\n",
        "**Example:**"
      ]
    },
    {
      "cell_type": "code",
      "execution_count": null,
      "metadata": {
        "id": "task2-example"
      },
      "outputs": [],
      "source": [
        "# Example: Find micro breweries in Champaign, Illinois\n",
        "filter_url = f'{base_url}/breweries'\n",
        "\n",
        "params_filter = {\n",
        "    'by_city': 'Champaign',\n",
        "    'by_state': 'Illinois',\n",
        "    'by_type': 'micro',\n",
        "    'per_page': 10\n",
        "}\n",
        "\n",
        "# Your code here to make the request and create DataFrame\n"
      ]
    },
    {
      "cell_type": "markdown",
      "metadata": {
        "id": "task3"
      },
      "source": [
        "---\n",
        "\n",
        "## Task 3: Random Breweries\n",
        "\n",
        "Use the `/breweries/random` endpoint to get random breweries. This endpoint accepts:\n",
        "- `size` - Number of random breweries to return (default: 1, max: 50)\n",
        "\n",
        "Get **5 random breweries**, convert to DataFrame, and display all rows.\n",
        "\n",
        "**Hint:** The URL should be `http://178.156.206.171:8000/breweries/random`"
      ]
    },
    {
      "cell_type": "code",
      "execution_count": null,
      "metadata": {
        "id": "task3-code"
      },
      "outputs": [],
      "source": [
        "# Your code for Task 3 here\n"
      ]
    },
    {
      "cell_type": "markdown",
      "metadata": {
        "id": "task4"
      },
      "source": [
        "---\n",
        "\n",
        "## Task 4: Autocomplete Search\n",
        "\n",
        "Use the `/breweries/autocomplete` endpoint to search for brewery names. This is useful for implementing search-as-you-type functionality.\n",
        "\n",
        "Parameters:\n",
        "- `query` - Search term (e.g., \"stone\")\n",
        "\n",
        "Search for breweries starting with **\"stone\"** and display results.\n",
        "\n",
        "**Note:** This endpoint returns simplified data (just `id` and `name`)."
      ]
    },
    {
      "cell_type": "code",
      "execution_count": null,
      "metadata": {
        "id": "task4-code"
      },
      "outputs": [],
      "source": [
        "# Your code for Task 4 here\n"
      ]
    },
    {
      "cell_type": "markdown",
      "metadata": {
        "id": "task5"
      },
      "source": [
        "---\n",
        "\n",
        "## Task 5: Get Brewery by ID\n",
        "\n",
        "Use the `/breweries/{id}` endpoint to get a specific brewery by its UUID.\n",
        "\n",
        "**Instructions:**\n",
        "1. First, use any search/filter query to get a list of breweries\n",
        "2. Extract the `id` of the first brewery in your results\n",
        "3. Use that ID to fetch the full brewery details\n",
        "4. Print the JSON response (formatted)\n",
        "\n",
        "**Example ID:** You'll get this from your search results"
      ]
    },
    {
      "cell_type": "code",
      "execution_count": null,
      "metadata": {
        "id": "task5-step1"
      },
      "outputs": [],
      "source": [
        "# Step 1: Get a list of breweries to find an ID\n",
        "# (Use any search/filter from previous tasks)\n"
      ]
    },
    {
      "cell_type": "code",
      "execution_count": null,
      "metadata": {
        "id": "task5-step2"
      },
      "outputs": [],
      "source": [
        "# Step 2: Extract the ID from the first result\n",
        "# brewery_id = df['id'].iloc[0]  # Example\n",
        "\n",
        "# Step 3: Fetch brewery by ID\n",
        "# brewery_url = f'{base_url}/breweries/{brewery_id}'\n",
        "# Your code here\n"
      ]
    },
    {
      "cell_type": "markdown",
      "metadata": {
        "id": "task6"
      },
      "source": [
        "---\n",
        "\n",
        "## Task 6: Combining Multiple Queries\n",
        "\n",
        "Create a query that combines data from **two different API calls**.\n",
        "\n",
        "**Example:** \n",
        "- Get all breweries in California (`by_state=California`)\n",
        "- Get all breweries in Texas (`by_state=Texas`)\n",
        "- Combine both DataFrames using `pd.concat()`\n",
        "- Show summary statistics (count by state, count by type, etc.)\n",
        "\n",
        "**Your task:** Choose your own combination and analyze the results."
      ]
    },
    {
      "cell_type": "code",
      "execution_count": null,
      "metadata": {
        "id": "task6-code"
      },
      "outputs": [],
      "source": [
        "# Your code for Task 6 here\n",
        "# Make two API calls\n",
        "# Combine the results\n",
        "# Perform analysis\n"
      ]
    },
    {
      "cell_type": "markdown",
      "metadata": {
        "id": "submission"
      },
      "source": [
        "---\n",
        "\n",
        "## Submission Instructions\n",
        "\n",
        "1. Complete all 6 tasks above\n",
        "2. Ensure all code cells run without errors\n",
        "3. Make sure DataFrames display properly\n",
        "4. Download your completed notebook: File → Download → Download .ipynb\n",
        "5. Submit to the **Class Participation Assignment** on Canvas\n",
        "\n",
        "---\n",
        "\n",
        "## Advanced Challenge (Optional - Extra Credit)\n",
        "\n",
        "For students who want an extra challenge:\n",
        "\n",
        "**Create a comprehensive brewery analysis:**\n",
        "1. Find the **top 5 states** with the most breweries\n",
        "2. For each of those states, get the **distribution of brewery types**\n",
        "3. Create a summary table showing:\n",
        "   - State name\n",
        "   - Total brewery count\n",
        "   - Count by type (micro, nano, brewpub, etc.)\n",
        "4. Visualize the results using a bar chart (use `matplotlib` or `seaborn`)\n",
        "\n",
        "**Hint:** You'll need to:\n",
        "- Use the `/breweries/meta` endpoint to get counts\n",
        "- Make multiple filtered API calls\n",
        "- Use pandas groupby and aggregation functions\n",
        "- Create visualizations"
      ]
    },
    {
      "cell_type": "code",
      "execution_count": null,
      "metadata": {
        "id": "advanced-challenge"
      },
      "outputs": [],
      "source": [
        "# Your advanced challenge code here (optional)\n"
      ]
    },
    {
      "cell_type": "markdown",
      "metadata": {
        "id": "resources-final"
      },
      "source": [
        "---\n",
        "\n",
        "## Additional Resources\n",
        "\n",
        "- **API Interactive Docs:** http://178.156.206.171:8000/docs\n",
        "- **API Health Check:** http://178.156.206.171:8000/health\n",
        "- **Pandas Documentation:** https://pandas.pydata.org/docs/\n",
        "- **Requests Library:** https://requests.readthedocs.io/\n",
        "\n",
        "## Tips for Success\n",
        "\n",
        "1. **Always check the status code** - 200 means success\n",
        "2. **Print the response URL** - Helps debug parameter issues\n",
        "3. **Use `.json()` method** - Converts response to Python dict\n",
        "4. **Use `json.dumps()`** - Pretty print JSON for readability\n",
        "5. **Check DataFrame shape** - Ensure you got the expected data\n",
        "6. **Use descriptive variable names** - Makes code easier to follow\n",
        "\n",
        "## Common Errors and Solutions\n",
        "\n",
        "| Error | Cause | Solution |\n",
        "|-------|-------|----------|\n",
        "| `ConnectionError` | API server unreachable | Check internet connection, verify URL |\n",
        "| `Timeout` | Request took too long | Increase timeout value |\n",
        "| `JSONDecodeError` | Response is not valid JSON | Check status code, print response.text |\n",
        "| `KeyError` | Trying to access missing key | Check available keys with `.keys()` |\n",
        "| Empty DataFrame | No results found | Verify your query parameters |\n",
        "\n",
        "Good luck! 🍺"
      ]
    }
  ],
  "metadata": {
    "colab": {
      "collapsed_sections": [],
      "provenance": []
    },
    "kernelspec": {
      "display_name": ".venv",
      "language": "python",
      "name": "python3"
    },
    "language_info": {
      "codemirror_mode": {
        "name": "ipython",
        "version": 3
      },
      "file_extension": ".py",
      "mimetype": "text/x-python",
      "name": "python",
      "nbconvert_exporter": "python",
      "pygments_lexer": "ipython3",
      "version": "3.13.2"
    }
  },
  "nbformat": 4,
  "nbformat_minor": 0
}
